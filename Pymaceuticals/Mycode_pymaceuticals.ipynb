{
 "cells": [
  {
   "cell_type": "code",
   "execution_count": 1,
   "metadata": {},
   "outputs": [
    {
     "data": {
      "text/html": [
       "<div>\n",
       "<style scoped>\n",
       "    .dataframe tbody tr th:only-of-type {\n",
       "        vertical-align: middle;\n",
       "    }\n",
       "\n",
       "    .dataframe tbody tr th {\n",
       "        vertical-align: top;\n",
       "    }\n",
       "\n",
       "    .dataframe thead th {\n",
       "        text-align: right;\n",
       "    }\n",
       "</style>\n",
       "<table border=\"1\" class=\"dataframe\">\n",
       "  <thead>\n",
       "    <tr style=\"text-align: right;\">\n",
       "      <th></th>\n",
       "      <th>Mouse ID</th>\n",
       "      <th>Drug Regimen</th>\n",
       "      <th>Sex</th>\n",
       "      <th>Age_months</th>\n",
       "      <th>Weight (g)</th>\n",
       "      <th>Timepoint</th>\n",
       "      <th>Tumor Volume (mm3)</th>\n",
       "      <th>Metastatic Sites</th>\n",
       "    </tr>\n",
       "  </thead>\n",
       "  <tbody>\n",
       "    <tr>\n",
       "      <td>0</td>\n",
       "      <td>k403</td>\n",
       "      <td>Ramicane</td>\n",
       "      <td>Male</td>\n",
       "      <td>21</td>\n",
       "      <td>16</td>\n",
       "      <td>0</td>\n",
       "      <td>45.000000</td>\n",
       "      <td>0</td>\n",
       "    </tr>\n",
       "    <tr>\n",
       "      <td>1</td>\n",
       "      <td>k403</td>\n",
       "      <td>Ramicane</td>\n",
       "      <td>Male</td>\n",
       "      <td>21</td>\n",
       "      <td>16</td>\n",
       "      <td>5</td>\n",
       "      <td>38.825898</td>\n",
       "      <td>0</td>\n",
       "    </tr>\n",
       "    <tr>\n",
       "      <td>2</td>\n",
       "      <td>k403</td>\n",
       "      <td>Ramicane</td>\n",
       "      <td>Male</td>\n",
       "      <td>21</td>\n",
       "      <td>16</td>\n",
       "      <td>10</td>\n",
       "      <td>35.014271</td>\n",
       "      <td>1</td>\n",
       "    </tr>\n",
       "    <tr>\n",
       "      <td>3</td>\n",
       "      <td>k403</td>\n",
       "      <td>Ramicane</td>\n",
       "      <td>Male</td>\n",
       "      <td>21</td>\n",
       "      <td>16</td>\n",
       "      <td>15</td>\n",
       "      <td>34.223992</td>\n",
       "      <td>1</td>\n",
       "    </tr>\n",
       "    <tr>\n",
       "      <td>4</td>\n",
       "      <td>k403</td>\n",
       "      <td>Ramicane</td>\n",
       "      <td>Male</td>\n",
       "      <td>21</td>\n",
       "      <td>16</td>\n",
       "      <td>20</td>\n",
       "      <td>32.997729</td>\n",
       "      <td>1</td>\n",
       "    </tr>\n",
       "  </tbody>\n",
       "</table>\n",
       "</div>"
      ],
      "text/plain": [
       "  Mouse ID Drug Regimen   Sex  Age_months  Weight (g)  Timepoint  \\\n",
       "0     k403     Ramicane  Male          21          16          0   \n",
       "1     k403     Ramicane  Male          21          16          5   \n",
       "2     k403     Ramicane  Male          21          16         10   \n",
       "3     k403     Ramicane  Male          21          16         15   \n",
       "4     k403     Ramicane  Male          21          16         20   \n",
       "\n",
       "   Tumor Volume (mm3)  Metastatic Sites  \n",
       "0           45.000000                 0  \n",
       "1           38.825898                 0  \n",
       "2           35.014271                 1  \n",
       "3           34.223992                 1  \n",
       "4           32.997729                 1  "
      ]
     },
     "execution_count": 1,
     "metadata": {},
     "output_type": "execute_result"
    }
   ],
   "source": [
    "# Dependencies and Setup\n",
    "import matplotlib.pyplot as plt\n",
    "import pandas as pd\n",
    "import scipy.stats as st\n",
    "from scipy.stats import linregress\n",
    "import random\n",
    "\n",
    "# Study data files\n",
    "mouse_data = \"data/Mouse_metadata.csv\"\n",
    "results_data = \"data/Study_results.csv\"\n",
    "\n",
    "# Read the mouse data and the study results\n",
    "mouse_data = pd.read_csv(mouse_data)\n",
    "results_data = pd.read_csv(results_data)\n",
    "mouse_data.head()\n",
    "\n",
    "# Combine the data into a single dataset\n",
    "file = pd.merge(mouse_data,results_data, on=\"Mouse ID\",how='outer')\n",
    "file.head()"
   ]
  },
  {
   "cell_type": "code",
   "execution_count": 2,
   "metadata": {},
   "outputs": [
    {
     "data": {
      "text/html": [
       "<div>\n",
       "<style scoped>\n",
       "    .dataframe tbody tr th:only-of-type {\n",
       "        vertical-align: middle;\n",
       "    }\n",
       "\n",
       "    .dataframe tbody tr th {\n",
       "        vertical-align: top;\n",
       "    }\n",
       "\n",
       "    .dataframe thead th {\n",
       "        text-align: right;\n",
       "    }\n",
       "</style>\n",
       "<table border=\"1\" class=\"dataframe\">\n",
       "  <thead>\n",
       "    <tr style=\"text-align: right;\">\n",
       "      <th></th>\n",
       "      <th>Mean of Tumor Volume</th>\n",
       "      <th>Median of Tumor Volume</th>\n",
       "      <th>Variance of Tumor Volume</th>\n",
       "      <th>Standard Deviation of Tumor Volume</th>\n",
       "      <th>SEM of Tumor Volume</th>\n",
       "    </tr>\n",
       "    <tr>\n",
       "      <th>Drug Regimen</th>\n",
       "      <th></th>\n",
       "      <th></th>\n",
       "      <th></th>\n",
       "      <th></th>\n",
       "      <th></th>\n",
       "    </tr>\n",
       "  </thead>\n",
       "  <tbody>\n",
       "    <tr>\n",
       "      <td>Capomulin</td>\n",
       "      <td>40.675741</td>\n",
       "      <td>41.557809</td>\n",
       "      <td>24.947764</td>\n",
       "      <td>4.994774</td>\n",
       "      <td>0.329346</td>\n",
       "    </tr>\n",
       "    <tr>\n",
       "      <td>Ceftamin</td>\n",
       "      <td>52.591172</td>\n",
       "      <td>51.776157</td>\n",
       "      <td>39.290177</td>\n",
       "      <td>6.268188</td>\n",
       "      <td>0.469821</td>\n",
       "    </tr>\n",
       "    <tr>\n",
       "      <td>Infubinol</td>\n",
       "      <td>52.884795</td>\n",
       "      <td>51.820584</td>\n",
       "      <td>43.128684</td>\n",
       "      <td>6.567243</td>\n",
       "      <td>0.492236</td>\n",
       "    </tr>\n",
       "    <tr>\n",
       "      <td>Ketapril</td>\n",
       "      <td>55.235638</td>\n",
       "      <td>53.698743</td>\n",
       "      <td>68.553577</td>\n",
       "      <td>8.279709</td>\n",
       "      <td>0.603860</td>\n",
       "    </tr>\n",
       "    <tr>\n",
       "      <td>Naftisol</td>\n",
       "      <td>54.331565</td>\n",
       "      <td>52.509285</td>\n",
       "      <td>66.173479</td>\n",
       "      <td>8.134708</td>\n",
       "      <td>0.596466</td>\n",
       "    </tr>\n",
       "    <tr>\n",
       "      <td>Placebo</td>\n",
       "      <td>54.033581</td>\n",
       "      <td>52.288934</td>\n",
       "      <td>61.168083</td>\n",
       "      <td>7.821003</td>\n",
       "      <td>0.581331</td>\n",
       "    </tr>\n",
       "    <tr>\n",
       "      <td>Propriva</td>\n",
       "      <td>52.322552</td>\n",
       "      <td>50.854632</td>\n",
       "      <td>42.351070</td>\n",
       "      <td>6.507770</td>\n",
       "      <td>0.512884</td>\n",
       "    </tr>\n",
       "    <tr>\n",
       "      <td>Ramicane</td>\n",
       "      <td>40.216745</td>\n",
       "      <td>40.673236</td>\n",
       "      <td>23.486704</td>\n",
       "      <td>4.846308</td>\n",
       "      <td>0.320955</td>\n",
       "    </tr>\n",
       "    <tr>\n",
       "      <td>Stelasyn</td>\n",
       "      <td>54.233149</td>\n",
       "      <td>52.431737</td>\n",
       "      <td>59.450562</td>\n",
       "      <td>7.710419</td>\n",
       "      <td>0.573111</td>\n",
       "    </tr>\n",
       "    <tr>\n",
       "      <td>Zoniferol</td>\n",
       "      <td>53.236507</td>\n",
       "      <td>51.818479</td>\n",
       "      <td>48.533355</td>\n",
       "      <td>6.966589</td>\n",
       "      <td>0.516398</td>\n",
       "    </tr>\n",
       "  </tbody>\n",
       "</table>\n",
       "</div>"
      ],
      "text/plain": [
       "              Mean of Tumor Volume  Median of Tumor Volume  \\\n",
       "Drug Regimen                                                 \n",
       "Capomulin                40.675741               41.557809   \n",
       "Ceftamin                 52.591172               51.776157   \n",
       "Infubinol                52.884795               51.820584   \n",
       "Ketapril                 55.235638               53.698743   \n",
       "Naftisol                 54.331565               52.509285   \n",
       "Placebo                  54.033581               52.288934   \n",
       "Propriva                 52.322552               50.854632   \n",
       "Ramicane                 40.216745               40.673236   \n",
       "Stelasyn                 54.233149               52.431737   \n",
       "Zoniferol                53.236507               51.818479   \n",
       "\n",
       "              Variance of Tumor Volume  Standard Deviation of Tumor Volume  \\\n",
       "Drug Regimen                                                                 \n",
       "Capomulin                    24.947764                            4.994774   \n",
       "Ceftamin                     39.290177                            6.268188   \n",
       "Infubinol                    43.128684                            6.567243   \n",
       "Ketapril                     68.553577                            8.279709   \n",
       "Naftisol                     66.173479                            8.134708   \n",
       "Placebo                      61.168083                            7.821003   \n",
       "Propriva                     42.351070                            6.507770   \n",
       "Ramicane                     23.486704                            4.846308   \n",
       "Stelasyn                     59.450562                            7.710419   \n",
       "Zoniferol                    48.533355                            6.966589   \n",
       "\n",
       "              SEM of Tumor Volume  \n",
       "Drug Regimen                       \n",
       "Capomulin                0.329346  \n",
       "Ceftamin                 0.469821  \n",
       "Infubinol                0.492236  \n",
       "Ketapril                 0.603860  \n",
       "Naftisol                 0.596466  \n",
       "Placebo                  0.581331  \n",
       "Propriva                 0.512884  \n",
       "Ramicane                 0.320955  \n",
       "Stelasyn                 0.573111  \n",
       "Zoniferol                0.516398  "
      ]
     },
     "execution_count": 2,
     "metadata": {},
     "output_type": "execute_result"
    }
   ],
   "source": [
    "# Generate a summary statistics table of mean, median, variance, standard deviation, and SEM of the tumor volume for each regimen\n",
    "file_drug = file.groupby(\"Drug Regimen\")\n",
    "file_drug_volume = file_drug[\"Tumor Volume (mm3)\"].mean()\n",
    "file_drug_median = file_drug[\"Tumor Volume (mm3)\"].median()\n",
    "file_drug_variance = file_drug[\"Tumor Volume (mm3)\"].var()\n",
    "file_drug_sd = file_drug[\"Tumor Volume (mm3)\"].std()\n",
    "file_drug_SEM = file_drug[\"Tumor Volume (mm3)\"].sem()\n",
    "Summary_stats = pd.DataFrame({\"Mean of Tumor Volume\":file_drug_volume,\"Median of Tumor Volume\":file_drug_median,\n",
    "                             \"Variance of Tumor Volume\":file_drug_variance,\"Standard Deviation of Tumor Volume\":file_drug_sd,\n",
    "                             \"SEM of Tumor Volume\":file_drug_SEM})\n",
    "Summary_stats\n"
   ]
  },
  {
   "cell_type": "code",
   "execution_count": 3,
   "metadata": {},
   "outputs": [
    {
     "data": {
      "text/plain": [
       "<matplotlib.axes._subplots.AxesSubplot at 0x1dda349a508>"
      ]
     },
     "execution_count": 3,
     "metadata": {},
     "output_type": "execute_result"
    },
    {
     "data": {
      "image/png": "[encoded data removed]",
      "text/plain": [
       "<Figure size 1080x360 with 1 Axes>"
      ]
     },
     "metadata": {
      "needs_background": "light"
     },
     "output_type": "display_data"
    }
   ],
   "source": [
    "# Generate a bar plot showing number of data points for each treatment regimen using pandas\n",
    "file_drug_count = file_drug[\"Mouse ID\"].count()\n",
    "file_datapoint = pd.DataFrame({\"Number of Data Points\":file_drug_count})\n",
    "file_datapoint.plot(kind=\"bar\",figsize=(15,5),title=\"Bar plot showing number of data points for each treatment regimen using pandas\")"
   ]
  },
  {
   "cell_type": "code",
   "execution_count": 4,
   "metadata": {},
   "outputs": [
    {
     "data": {
      "text/plain": [
       "<BarContainer object of 10 artists>"
      ]
     },
     "execution_count": 4,
     "metadata": {},
     "output_type": "execute_result"
    },
    {
     "data": {
      "image/png": "[encoded data removed]",
      "text/plain": [
       "<Figure size 1080x360 with 1 Axes>"
      ]
     },
     "metadata": {
      "needs_background": "light"
     },
     "output_type": "display_data"
    }
   ],
   "source": [
    "# Generate a bar plot showing number of data points for each treatment regimen using pyplot\n",
    "file_count = file[\"Drug Regimen\"].value_counts().rename_axis('Drug Regimen').reset_index(name='Data Points')\n",
    "file_summary = file_count.sort_values(\"Drug Regimen\",ascending=True)\n",
    "x_axis = file_summary[\"Drug Regimen\"]\n",
    "y_axis = file_summary[\"Data Points\"]\n",
    "plt.figure(figsize=(15,5))\n",
    "plt.xlabel(\"Drug Regimen\")\n",
    "plt.ylabel(\"Data Points\")\n",
    "plt.title(\"Bar plot showing number of data points for each treatment regimen using pyplot\")\n",
    "plt.bar(x_axis,y_axis,width=0.5,alpha=1,align=\"center\")"
   ]
  },
  {
   "cell_type": "code",
   "execution_count": 5,
   "metadata": {},
   "outputs": [
    {
     "data": {
      "text/plain": [
       "Male      958\n",
       "Female    935\n",
       "Name: Sex, dtype: int64"
      ]
     },
     "execution_count": 5,
     "metadata": {},
     "output_type": "execute_result"
    },
    {
     "data": {
      "image/png": "[encoded data removed]",
      "text/plain": [
       "<Figure size 1080x360 with 1 Axes>"
      ]
     },
     "metadata": {},
     "output_type": "display_data"
    }
   ],
   "source": [
    "# Generate a pie plot showing the distribution of female versus male mice using pandas\n",
    "file_gender = file[\"Sex\"].value_counts()\n",
    "file_gender.plot.pie(y=\"a\",figsize=(15,5),title=\"Pie plot showing the distribution of female versus male mice using pandas\")\n",
    "file_gender"
   ]
  },
  {
   "cell_type": "code",
   "execution_count": 6,
   "metadata": {},
   "outputs": [
    {
     "data": {
      "text/plain": [
       "([<matplotlib.patches.Wedge at 0x1dda38ca588>,\n",
       "  <matplotlib.patches.Wedge at 0x1dda38d2048>],\n",
       " [Text(-0.021946708175884767, 1.1497905644073805, 'Male'),\n",
       "  Text(0.020992503472585782, -1.0997996703027118, 'Female')],\n",
       " [Text(-0.012404661142891387, 0.6498816233606933, '50.6%'),\n",
       "  Text(0.011450456439592244, -0.5998907292560246, '49.4%')])"
      ]
     },
     "execution_count": 6,
     "metadata": {},
     "output_type": "execute_result"
    },
    {
     "data": {
      "image/png": "[encoded data removed]",
      "text/plain": [
       "<Figure size 1080x360 with 1 Axes>"
      ]
     },
     "metadata": {},
     "output_type": "display_data"
    }
   ],
   "source": [
    "# Generate a pie plot showing the distribution of female versus male mice using pyplot\n",
    "male_count = len(file.loc[file[\"Sex\"]==\"Male\"])\n",
    "female_count = len(file.loc[file[\"Sex\"]==\"Female\"])\n",
    "labels=[\"Male\",\"Female\"]\n",
    "counts = [male_count,female_count]\n",
    "colors = [\"blue\",\"orange\"]\n",
    "explode = (0.05,0)\n",
    "plt.figure(figsize=(15,5))\n",
    "plt.title(\"Pie plot showing the distribution of female versus male mice using pyplot\")\n",
    "plt.axis(\"equal\")\n",
    "plt.pie(counts, explode=explode, labels=labels,colors=colors,\n",
    "        autopct=\"%1.1f%%\", shadow=True, startangle=0)"
   ]
  },
  {
   "cell_type": "code",
   "execution_count": 7,
   "metadata": {},
   "outputs": [
    {
     "name": "stdout",
     "output_type": "stream",
     "text": [
      "For Capomulin Drug Regimen, the median of Final Tumor Volume(mm3) is: 37.31184577 \n",
      "For Capomulin Drug Regimen, the IQR is: 7.781863460000004 \n",
      "For Capomulin Drug Regimen, the Final Tumor Volume(mm3) Values below 20.70456164999999 could be outliers.\n",
      "For Capomulin Drug Regimen, the Final Tumor Volume(mm3) Values above 51.83201549 could be outliers.\n",
      "\n",
      "For Ramicane Drug Regimen, the median of Final Tumor Volume(mm3) is: 34.848627300000004 \n",
      "For Ramicane Drug Regimen, the IQR is: 7.527130082499998 \n",
      "For Ramicane Drug Regimen, the Final Tumor Volume(mm3) Values below 19.690480101250003 could be outliers.\n",
      "For Ramicane Drug Regimen, the Final Tumor Volume(mm3) Values above 49.79900043124999 could be outliers.\n",
      "\n",
      "For Infubinol Drug Regimen, the median of Final Tumor Volume(mm3) is: 66.08306589 \n",
      "For Infubinol Drug Regimen, the IQR is: 4.9311172099999965 \n",
      "For Infubinol Drug Regimen, the Final Tumor Volume(mm3) Values below 55.35777559500001 could be outliers.\n",
      "For Infubinol Drug Regimen, the Final Tumor Volume(mm3) Values above 75.08224443499999 could be outliers.\n",
      "\n",
      "For Ceftamin Drug Regimen, the median of Final Tumor Volume(mm3) is: 64.29983003 \n",
      "For Ceftamin Drug Regimen, the IQR is: 6.093590140000003 \n",
      "For Ceftamin Drug Regimen, the Final Tumor Volume(mm3) Values below 52.29350701999999 could be outliers.\n",
      "For Ceftamin Drug Regimen, the Final Tumor Volume(mm3) Values above 76.66786758 could be outliers.\n"
     ]
    }
   ],
   "source": [
    "# Calculate the final tumor volume of each mouse across four of the most promising treatment regimens. Calculate the IQR and quantitatively determine if there are any potential outliers. \n",
    "\n",
    "#Calculation of Final Tumor Volume of each mouse, IQR and potential outliers for Drug Capomulin\n",
    "\n",
    "file_Capomulin = file.loc[file[\"Drug Regimen\"]==\"Capomulin\",:]\n",
    "file_Capomulin_time = file_Capomulin.loc[file_Capomulin[\"Timepoint\"]==file_Capomulin[\"Timepoint\"].max(),:]\n",
    "file_Capomulin_time[[\"Mouse ID\",\"Drug Regimen\",\"Tumor Volume (mm3)\"]]\n",
    "quartiles_Capomulin = file_Capomulin_time[\"Tumor Volume (mm3)\"].quantile([.25,.5,.75])\n",
    "lowerq_Capomulin = quartiles_Capomulin[0.25]\n",
    "upperq_Capomulin = quartiles_Capomulin[0.75]\n",
    "iqr_Capomulin = upperq_Capomulin-lowerq_Capomulin\n",
    "lower_bound_Capomulin = lowerq_Capomulin - (1.5*iqr_Capomulin)\n",
    "upper_bound_Capomulin = upperq_Capomulin + (1.5*iqr_Capomulin)\n",
    "print(f\"For Capomulin Drug Regimen, the median of Final Tumor Volume(mm3) is: {quartiles_Capomulin[0.5]} \")\n",
    "print(f\"For Capomulin Drug Regimen, the IQR is: {iqr_Capomulin} \")\n",
    "print(f\"For Capomulin Drug Regimen, the Final Tumor Volume(mm3) Values below {lower_bound_Capomulin} could be outliers.\")\n",
    "print(f\"For Capomulin Drug Regimen, the Final Tumor Volume(mm3) Values above {upper_bound_Capomulin} could be outliers.\")\n",
    "\n",
    "#Calculation of Final Tumor Volume of each mouse, IQR and potential outliers for Drug Ramicane\n",
    "\n",
    "file_Ramicane = file.loc[file[\"Drug Regimen\"]==\"Ramicane\",:]\n",
    "file_Ramicane_time = file_Ramicane.loc[file_Ramicane[\"Timepoint\"]==file_Ramicane[\"Timepoint\"].max(),:]\n",
    "file_Ramicane_time[[\"Mouse ID\",\"Drug Regimen\",\"Tumor Volume (mm3)\"]]\n",
    "quartiles_Ramicane = file_Ramicane_time[\"Tumor Volume (mm3)\"].quantile([.25,.5,.75])\n",
    "lowerq_Ramicane = quartiles_Ramicane[0.25]\n",
    "upperq_Ramicane = quartiles_Ramicane[0.75]\n",
    "iqr_Ramicane = upperq_Ramicane-lowerq_Ramicane\n",
    "lower_bound_Ramicane = lowerq_Ramicane - (1.5*iqr_Ramicane)\n",
    "upper_bound_Ramicane = upperq_Ramicane + (1.5*iqr_Ramicane)\n",
    "print(\"\\n\" f\"For Ramicane Drug Regimen, the median of Final Tumor Volume(mm3) is: {quartiles_Ramicane[0.5]} \")\n",
    "print(f\"For Ramicane Drug Regimen, the IQR is: {iqr_Ramicane} \")\n",
    "print(f\"For Ramicane Drug Regimen, the Final Tumor Volume(mm3) Values below {lower_bound_Ramicane} could be outliers.\")\n",
    "print(f\"For Ramicane Drug Regimen, the Final Tumor Volume(mm3) Values above {upper_bound_Ramicane} could be outliers.\")\n",
    "\n",
    "#Calculation of Final Tumor Volume of each mouse, IQR and potential outliers for Drug Infubinol\n",
    "\n",
    "file_Infubinol = file.loc[file[\"Drug Regimen\"]==\"Infubinol\",:]\n",
    "file_Infubinol_time = file_Infubinol.loc[file_Infubinol[\"Timepoint\"]==file_Infubinol[\"Timepoint\"].max(),:]\n",
    "file_Infubinol_time[[\"Mouse ID\",\"Drug Regimen\",\"Tumor Volume (mm3)\"]]\n",
    "quartiles_Infubinol = file_Infubinol_time[\"Tumor Volume (mm3)\"].quantile([.25,.5,.75])\n",
    "lowerq_Infubinol = quartiles_Infubinol[0.25]\n",
    "upperq_Infubinol = quartiles_Infubinol[0.75]\n",
    "iqr_Infubinol = upperq_Infubinol-lowerq_Infubinol\n",
    "lower_bound_Infubinol = lowerq_Infubinol - (1.5*iqr_Infubinol)\n",
    "upper_bound_Infubinol = upperq_Infubinol + (1.5*iqr_Infubinol)\n",
    "print(\"\\n\" f\"For Infubinol Drug Regimen, the median of Final Tumor Volume(mm3) is: {quartiles_Infubinol[0.5]} \")\n",
    "print(f\"For Infubinol Drug Regimen, the IQR is: {iqr_Infubinol} \")\n",
    "print(f\"For Infubinol Drug Regimen, the Final Tumor Volume(mm3) Values below {lower_bound_Infubinol} could be outliers.\")\n",
    "print(f\"For Infubinol Drug Regimen, the Final Tumor Volume(mm3) Values above {upper_bound_Infubinol} could be outliers.\")\n",
    "\n",
    "#Calculation of Final Tumor Volume of each mouse, IQR and potential outliers for Drug Ceftamin\n",
    "\n",
    "file_Ceftamin = file.loc[file[\"Drug Regimen\"]==\"Ceftamin\",:]\n",
    "file_Ceftamin_time = file_Ceftamin.loc[file_Ceftamin[\"Timepoint\"]==file_Ceftamin[\"Timepoint\"].max(),:]\n",
    "file_Ceftamin_time[[\"Mouse ID\",\"Drug Regimen\",\"Tumor Volume (mm3)\"]]\n",
    "quartiles_Ceftamin = file_Ceftamin_time[\"Tumor Volume (mm3)\"].quantile([.25,.5,.75])\n",
    "lowerq_Ceftamin = quartiles_Ceftamin[0.25]\n",
    "upperq_Ceftamin = quartiles_Ceftamin[0.75]\n",
    "iqr_Ceftamin = upperq_Ceftamin-lowerq_Ceftamin\n",
    "lower_bound_Ceftamin = lowerq_Ceftamin - (1.5*iqr_Ceftamin)\n",
    "upper_bound_Ceftamin = upperq_Ceftamin + (1.5*iqr_Ceftamin)\n",
    "print(\"\\n\" f\"For Ceftamin Drug Regimen, the median of Final Tumor Volume(mm3) is: {quartiles_Ceftamin[0.5]} \")\n",
    "print(f\"For Ceftamin Drug Regimen, the IQR is: {iqr_Ceftamin} \")\n",
    "print(f\"For Ceftamin Drug Regimen, the Final Tumor Volume(mm3) Values below {lower_bound_Ceftamin} could be outliers.\")\n",
    "print(f\"For Ceftamin Drug Regimen, the Final Tumor Volume(mm3) Values above {upper_bound_Ceftamin} could be outliers.\")"
   ]
  },
  {
   "cell_type": "code",
   "execution_count": 8,
   "metadata": {},
   "outputs": [
    {
     "data": {
      "image/png": "[encoded data removed]",
      "text/plain": [
       "<Figure size 432x288 with 1 Axes>"
      ]
     },
     "metadata": {
      "needs_background": "light"
     },
     "output_type": "display_data"
    }
   ],
   "source": [
    "# Generate a box plot of the final tumor volume of each mouse across four regimens of interest\n",
    "tumor_Capomulin = file_Capomulin_time[\"Tumor Volume (mm3)\"]\n",
    "tumor_Ramicane = file_Ramicane_time[\"Tumor Volume (mm3)\"]\n",
    "tumor_Infubinol = file_Infubinol_time[\"Tumor Volume (mm3)\"]\n",
    "tumor_Ceftamin = file_Ceftamin_time[\"Tumor Volume (mm3)\"]\n",
    "data = [tumor_Capomulin, tumor_Ramicane, tumor_Infubinol, tumor_Ceftamin]\n",
    "fig1, ax1 = plt.subplots()\n",
    "ax1.set_xticklabels([\"Capomulin\",\"Ramicane\",\"Infubinol\",\"Ceftamin\"])\n",
    "ax1.set_title('Multiple Drug Regimen')\n",
    "ax1.set_ylabel('Tumor Volume (mm3)')\n",
    "ax1.boxplot(data)\n",
    "plt.show()"
   ]
  },
  {
   "cell_type": "code",
   "execution_count": 12,
   "metadata": {},
   "outputs": [
    {
     "name": "stdout",
     "output_type": "stream",
     "text": [
      "The randomly selected mouse is x401\n"
     ]
    },
    {
     "data": {
      "text/html": [
       "<div>\n",
       "<style scoped>\n",
       "    .dataframe tbody tr th:only-of-type {\n",
       "        vertical-align: middle;\n",
       "    }\n",
       "\n",
       "    .dataframe tbody tr th {\n",
       "        vertical-align: top;\n",
       "    }\n",
       "\n",
       "    .dataframe thead th {\n",
       "        text-align: right;\n",
       "    }\n",
       "</style>\n",
       "<table border=\"1\" class=\"dataframe\">\n",
       "  <thead>\n",
       "    <tr style=\"text-align: right;\">\n",
       "      <th></th>\n",
       "      <th>Mouse ID</th>\n",
       "      <th>Drug Regimen</th>\n",
       "      <th>Sex</th>\n",
       "      <th>Age_months</th>\n",
       "      <th>Weight (g)</th>\n",
       "      <th>Timepoint</th>\n",
       "      <th>Tumor Volume (mm3)</th>\n",
       "      <th>Metastatic Sites</th>\n",
       "    </tr>\n",
       "  </thead>\n",
       "  <tbody>\n",
       "    <tr>\n",
       "      <td>20</td>\n",
       "      <td>x401</td>\n",
       "      <td>Capomulin</td>\n",
       "      <td>Female</td>\n",
       "      <td>16</td>\n",
       "      <td>15</td>\n",
       "      <td>0</td>\n",
       "      <td>45.000000</td>\n",
       "      <td>0</td>\n",
       "    </tr>\n",
       "    <tr>\n",
       "      <td>21</td>\n",
       "      <td>x401</td>\n",
       "      <td>Capomulin</td>\n",
       "      <td>Female</td>\n",
       "      <td>16</td>\n",
       "      <td>15</td>\n",
       "      <td>5</td>\n",
       "      <td>45.473753</td>\n",
       "      <td>0</td>\n",
       "    </tr>\n",
       "    <tr>\n",
       "      <td>22</td>\n",
       "      <td>x401</td>\n",
       "      <td>Capomulin</td>\n",
       "      <td>Female</td>\n",
       "      <td>16</td>\n",
       "      <td>15</td>\n",
       "      <td>10</td>\n",
       "      <td>39.113891</td>\n",
       "      <td>0</td>\n",
       "    </tr>\n",
       "    <tr>\n",
       "      <td>23</td>\n",
       "      <td>x401</td>\n",
       "      <td>Capomulin</td>\n",
       "      <td>Female</td>\n",
       "      <td>16</td>\n",
       "      <td>15</td>\n",
       "      <td>15</td>\n",
       "      <td>39.776250</td>\n",
       "      <td>0</td>\n",
       "    </tr>\n",
       "    <tr>\n",
       "      <td>24</td>\n",
       "      <td>x401</td>\n",
       "      <td>Capomulin</td>\n",
       "      <td>Female</td>\n",
       "      <td>16</td>\n",
       "      <td>15</td>\n",
       "      <td>20</td>\n",
       "      <td>36.065835</td>\n",
       "      <td>0</td>\n",
       "    </tr>\n",
       "    <tr>\n",
       "      <td>25</td>\n",
       "      <td>x401</td>\n",
       "      <td>Capomulin</td>\n",
       "      <td>Female</td>\n",
       "      <td>16</td>\n",
       "      <td>15</td>\n",
       "      <td>25</td>\n",
       "      <td>36.617120</td>\n",
       "      <td>0</td>\n",
       "    </tr>\n",
       "    <tr>\n",
       "      <td>26</td>\n",
       "      <td>x401</td>\n",
       "      <td>Capomulin</td>\n",
       "      <td>Female</td>\n",
       "      <td>16</td>\n",
       "      <td>15</td>\n",
       "      <td>30</td>\n",
       "      <td>32.915292</td>\n",
       "      <td>0</td>\n",
       "    </tr>\n",
       "    <tr>\n",
       "      <td>27</td>\n",
       "      <td>x401</td>\n",
       "      <td>Capomulin</td>\n",
       "      <td>Female</td>\n",
       "      <td>16</td>\n",
       "      <td>15</td>\n",
       "      <td>35</td>\n",
       "      <td>30.206825</td>\n",
       "      <td>0</td>\n",
       "    </tr>\n",
       "    <tr>\n",
       "      <td>28</td>\n",
       "      <td>x401</td>\n",
       "      <td>Capomulin</td>\n",
       "      <td>Female</td>\n",
       "      <td>16</td>\n",
       "      <td>15</td>\n",
       "      <td>40</td>\n",
       "      <td>28.167397</td>\n",
       "      <td>0</td>\n",
       "    </tr>\n",
       "    <tr>\n",
       "      <td>29</td>\n",
       "      <td>x401</td>\n",
       "      <td>Capomulin</td>\n",
       "      <td>Female</td>\n",
       "      <td>16</td>\n",
       "      <td>15</td>\n",
       "      <td>45</td>\n",
       "      <td>28.484033</td>\n",
       "      <td>0</td>\n",
       "    </tr>\n",
       "  </tbody>\n",
       "</table>\n",
       "</div>"
      ],
      "text/plain": [
       "   Mouse ID Drug Regimen     Sex  Age_months  Weight (g)  Timepoint  \\\n",
       "20     x401    Capomulin  Female          16          15          0   \n",
       "21     x401    Capomulin  Female          16          15          5   \n",
       "22     x401    Capomulin  Female          16          15         10   \n",
       "23     x401    Capomulin  Female          16          15         15   \n",
       "24     x401    Capomulin  Female          16          15         20   \n",
       "25     x401    Capomulin  Female          16          15         25   \n",
       "26     x401    Capomulin  Female          16          15         30   \n",
       "27     x401    Capomulin  Female          16          15         35   \n",
       "28     x401    Capomulin  Female          16          15         40   \n",
       "29     x401    Capomulin  Female          16          15         45   \n",
       "\n",
       "    Tumor Volume (mm3)  Metastatic Sites  \n",
       "20           45.000000                 0  \n",
       "21           45.473753                 0  \n",
       "22           39.113891                 0  \n",
       "23           39.776250                 0  \n",
       "24           36.065835                 0  \n",
       "25           36.617120                 0  \n",
       "26           32.915292                 0  \n",
       "27           30.206825                 0  \n",
       "28           28.167397                 0  \n",
       "29           28.484033                 0  "
      ]
     },
     "execution_count": 12,
     "metadata": {},
     "output_type": "execute_result"
    },
    {
     "data": {
      "image/png": "[encoded data removed]",
      "text/plain": [
       "<Figure size 432x288 with 1 Axes>"
      ]
     },
     "metadata": {
      "needs_background": "light"
     },
     "output_type": "display_data"
    }
   ],
   "source": [
    "# Generate a line plot of time point versus tumor volume for a mouse treated with Capomulin\n",
    "file_Capomulin = file.loc[file[\"Drug Regimen\"]==\"Capomulin\",:]\n",
    "\n",
    "#Randomly selecting a mouse treated with Capomulin\n",
    "\n",
    "mouse = random.sample(list(file_Capomulin[\"Mouse ID\"]), 1)\n",
    "file_Capomulin_mouse = file_Capomulin.loc[file_Capomulin[\"Mouse ID\"]== mouse[0],:]\n",
    "plt.title(f\" Plot of time point versus tumor volume for Mouse {mouse[0]} treated with Capomulin\")\n",
    "plt.xlabel(\"Time Point\")\n",
    "plt.ylabel(\"Tumor Volume (mm3)\")\n",
    "plt.xlim(0,file_Capomulin_mouse[\"Timepoint\"].max())\n",
    "plt.plot(file_Capomulin_mouse[\"Timepoint\"], file_Capomulin_mouse[\"Tumor Volume (mm3)\"])\n",
    "print(f\"The randomly selected mouse is {mouse[0]}\")\n",
    "file_Capomulin_mouse"
   ]
  },
  {
   "cell_type": "code",
   "execution_count": 13,
   "metadata": {},
   "outputs": [
    {
     "data": {
      "text/plain": [
       "<Figure size 1800x504 with 0 Axes>"
      ]
     },
     "execution_count": 13,
     "metadata": {},
     "output_type": "execute_result"
    },
    {
     "data": {
      "image/png": "[encoded data removed]",
      "text/plain": [
       "<Figure size 432x288 with 1 Axes>"
      ]
     },
     "metadata": {
      "needs_background": "light"
     },
     "output_type": "display_data"
    },
    {
     "data": {
      "text/plain": [
       "<Figure size 1800x504 with 0 Axes>"
      ]
     },
     "metadata": {},
     "output_type": "display_data"
    }
   ],
   "source": [
    "# Generate a scatter plot of mouse weight versus average tumor volume for the Capomulin regimen\n",
    "file_Capomulin = file.loc[file[\"Drug Regimen\"]==\"Capomulin\",:]\n",
    "file_Capomulin_avg = file_Capomulin.groupby(\"Mouse ID\")[\"Tumor Volume (mm3)\"].mean()\n",
    "file_Capomulin_weight = file_Capomulin.groupby(\"Mouse ID\")[\"Weight (g)\"].mean()\n",
    "file_summary_Cap = pd.DataFrame({\"Mouse Weight\":file_Capomulin_weight,\"Average Tumor Volume (mm3)\":file_Capomulin_avg})\n",
    "plt.scatter(file_Capomulin_weight, file_Capomulin_avg, marker=\"o\", facecolors=\"blue\", edgecolors=\"black\",\n",
    "            s=file_Capomulin_weight, alpha=1)\n",
    "plt.xlabel(\"Mouse Weight(g)\")\n",
    "plt.ylabel(\"Average Tumor Volume(mm3)\")\n",
    "plt.title(\"Scatter Plot of mouse weight versus average tumor volume for the Capomulin regimen\")\n",
    "plt.figure(figsize=(25,7))"
   ]
  },
  {
   "cell_type": "code",
   "execution_count": 14,
   "metadata": {},
   "outputs": [
    {
     "name": "stdout",
     "output_type": "stream",
     "text": [
      "The correlation between Mouse Weight and Average Tumor Volume is 0.84\n"
     ]
    },
    {
     "data": {
      "image/png": "[encoded data removed]",
      "text/plain": [
       "<Figure size 432x288 with 1 Axes>"
      ]
     },
     "metadata": {
      "needs_background": "light"
     },
     "output_type": "display_data"
    }
   ],
   "source": [
    "# Calculate the correlation coefficient and linear regression model for mouse weight and average tumor volume for the Capomulin regimen\n",
    "x_values = file_summary_Cap['Mouse Weight']\n",
    "y_values = file_summary_Cap['Average Tumor Volume (mm3)']\n",
    "correlation = st.pearsonr(x_values,y_values)\n",
    "print(f\"The correlation between Mouse Weight and Average Tumor Volume is {round(correlation[0],2)}\")\n",
    "(slope, intercept, rvalue, pvalue, stderr) = linregress(x_values, y_values)\n",
    "regress_values = x_values * slope + intercept\n",
    "line_eq = \"y = \" + str(round(slope,2)) + \"x + \" + str(round(intercept,2))\n",
    "plt.scatter(x_values,y_values)\n",
    "plt.plot(x_values,regress_values,\"r-\")\n",
    "plt.annotate(line_eq,(20,35),fontsize=15,color=\"red\")\n",
    "plt.xlabel('Mouse Weight (g)')\n",
    "plt.ylabel('Average Tumor Volume (mm3)')\n",
    "plt.title(\"Linear regression model for mouse weight and average tumor volume for the Capomulin regimen\")\n",
    "plt.show()"
   ]
  },
  {
   "cell_type": "code",
   "execution_count": null,
   "metadata": {},
   "outputs": [],
   "source": []
  }
 ],
 "metadata": {
  "kernelspec": {
   "display_name": "Python 3",
   "language": "python",
   "name": "python3"
  },
  "language_info": {
   "codemirror_mode": {
    "name": "ipython",
    "version": 3
   },
   "file_extension": ".py",
   "mimetype": "text/x-python",
   "name": "python",
   "nbconvert_exporter": "python",
   "pygments_lexer": "ipython3",
   "version": "3.7.4"
  }
 },
 "nbformat": 4,
 "nbformat_minor": 4
}
